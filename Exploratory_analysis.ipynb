{
 "cells": [
  {
   "cell_type": "markdown",
   "id": "stupid-shame",
   "metadata": {},
   "source": [
    "# **Seoul Bike Sharing Demand Data Set : exploratory analysis**"
   ]
  },
  {
   "cell_type": "markdown",
   "id": "naked-object",
   "metadata": {},
   "source": [
    "## Objectives"
   ]
  },
  {
   "cell_type": "markdown",
   "id": "circular-labor",
   "metadata": {},
   "source": [
    "With this notebook we start the exploration of Seoul Bike Sharing Demand Data Set obtained via UCI Machine Learning Reposity, a collection of databases, domain theories, and data generators that are used by the machine learning community for the empirical analysis of machine learning algorithms. Those data were used for research purposes and published by Sathishkumar V E [1.2] \n",
    "\n",
    "Below we provide our exploratory analysis."
   ]
  },
  {
   "cell_type": "markdown",
   "id": "threatened-passenger",
   "metadata": {},
   "source": [
    "## Importing Needed packages"
   ]
  },
  {
   "cell_type": "code",
   "execution_count": 30,
   "id": "champion-attraction",
   "metadata": {},
   "outputs": [],
   "source": [
    "import warnings\n",
    "warnings.filterwarnings('ignore')\n",
    "import matplotlib.pyplot as plt\n",
    "import pandas as pd\n",
    "import pylab as pl\n",
    "import numpy as np"
   ]
  },
  {
   "cell_type": "markdown",
   "id": "electrical-latter",
   "metadata": {},
   "source": [
    "## Understanding the Data"
   ]
  },
  {
   "cell_type": "markdown",
   "id": "shared-discipline",
   "metadata": {},
   "source": [
    "#### `SeoulBikeData.csv`:\n",
    "\n",
    "The dataset, **`SeoulBikeData.csv`**, which contains Seoul's rental bike data made available. [Dataset source](https://archive.ics.uci.edu/ml/datasets/Seoul+Bike+Sharing+Demand)\n",
    "\n",
    "- **Date**: year-month-day\n",
    "- **Rented Bike count** - Count of bikes rented at each hour\n",
    "- **Hour** - Hour of he day\n",
    "- **Temperature**-Temperature in Celsius\n",
    "- **Humidity** - %\n",
    "- **Windspeed** - m/s\n",
    "- **Visibility** - 20m\n",
    "- **Dew point temperature** - Celsius\n",
    "- **Solar radiation** - MJ/m2\n",
    "- **Rainfall** - mm\n",
    "- **Snowfall** - cm\n",
    "- **Seasons** - Winter, Spring, Summer, Autumn\n",
    "- **Holiday** - Holiday/No holiday\n",
    "- **Functional Day** - NoFunc(Non Functional Hours), Fun(Functional hours)\n",
    "\n",
    "**No missing values**"
   ]
  },
  {
   "cell_type": "markdown",
   "id": "dying-tampa",
   "metadata": {},
   "source": [
    "This dataset presents one year acquisition that spans from December 2017 to November 2018. The dataset provides the count of the rental bikes at each hour, for each day during that one-year span. Several features are present such as date/time variable. Temperature, humidity, wind speed, dew point temperature, solar radiation, rainfall, and snowfall are also present as climatic condition can greatly influence transportation in general. Holiday status and functioning days are also present. Other features such as seasons, holiday and functioning days are present too.\n",
    "\n",
    "Those features will allow us to understand more the bike-sharing demand and the feature’s influence on it."
   ]
  },
  {
   "cell_type": "code",
   "execution_count": 31,
   "id": "compliant-design",
   "metadata": {},
   "outputs": [
    {
     "data": {
      "text/html": [
       "<div>\n",
       "<style scoped>\n",
       "    .dataframe tbody tr th:only-of-type {\n",
       "        vertical-align: middle;\n",
       "    }\n",
       "\n",
       "    .dataframe tbody tr th {\n",
       "        vertical-align: top;\n",
       "    }\n",
       "\n",
       "    .dataframe thead th {\n",
       "        text-align: right;\n",
       "    }\n",
       "</style>\n",
       "<table border=\"1\" class=\"dataframe\">\n",
       "  <thead>\n",
       "    <tr style=\"text-align: right;\">\n",
       "      <th></th>\n",
       "      <th>Date</th>\n",
       "      <th>Rented Bike Count</th>\n",
       "      <th>Hour</th>\n",
       "      <th>Temperature(�C)</th>\n",
       "      <th>Humidity(%)</th>\n",
       "      <th>Wind speed (m/s)</th>\n",
       "      <th>Visibility (10m)</th>\n",
       "      <th>Dew point temperature(�C)</th>\n",
       "      <th>Solar Radiation (MJ/m2)</th>\n",
       "      <th>Rainfall(mm)</th>\n",
       "      <th>Snowfall (cm)</th>\n",
       "      <th>Seasons</th>\n",
       "      <th>Holiday</th>\n",
       "      <th>Functioning Day</th>\n",
       "    </tr>\n",
       "  </thead>\n",
       "  <tbody>\n",
       "    <tr>\n",
       "      <th>0</th>\n",
       "      <td>01/12/2017</td>\n",
       "      <td>254</td>\n",
       "      <td>0</td>\n",
       "      <td>-5.2</td>\n",
       "      <td>37</td>\n",
       "      <td>2.2</td>\n",
       "      <td>2000</td>\n",
       "      <td>-17.6</td>\n",
       "      <td>0.0</td>\n",
       "      <td>0.0</td>\n",
       "      <td>0.0</td>\n",
       "      <td>Winter</td>\n",
       "      <td>No Holiday</td>\n",
       "      <td>Yes</td>\n",
       "    </tr>\n",
       "    <tr>\n",
       "      <th>1</th>\n",
       "      <td>01/12/2017</td>\n",
       "      <td>204</td>\n",
       "      <td>1</td>\n",
       "      <td>-5.5</td>\n",
       "      <td>38</td>\n",
       "      <td>0.8</td>\n",
       "      <td>2000</td>\n",
       "      <td>-17.6</td>\n",
       "      <td>0.0</td>\n",
       "      <td>0.0</td>\n",
       "      <td>0.0</td>\n",
       "      <td>Winter</td>\n",
       "      <td>No Holiday</td>\n",
       "      <td>Yes</td>\n",
       "    </tr>\n",
       "    <tr>\n",
       "      <th>2</th>\n",
       "      <td>01/12/2017</td>\n",
       "      <td>173</td>\n",
       "      <td>2</td>\n",
       "      <td>-6.0</td>\n",
       "      <td>39</td>\n",
       "      <td>1.0</td>\n",
       "      <td>2000</td>\n",
       "      <td>-17.7</td>\n",
       "      <td>0.0</td>\n",
       "      <td>0.0</td>\n",
       "      <td>0.0</td>\n",
       "      <td>Winter</td>\n",
       "      <td>No Holiday</td>\n",
       "      <td>Yes</td>\n",
       "    </tr>\n",
       "    <tr>\n",
       "      <th>3</th>\n",
       "      <td>01/12/2017</td>\n",
       "      <td>107</td>\n",
       "      <td>3</td>\n",
       "      <td>-6.2</td>\n",
       "      <td>40</td>\n",
       "      <td>0.9</td>\n",
       "      <td>2000</td>\n",
       "      <td>-17.6</td>\n",
       "      <td>0.0</td>\n",
       "      <td>0.0</td>\n",
       "      <td>0.0</td>\n",
       "      <td>Winter</td>\n",
       "      <td>No Holiday</td>\n",
       "      <td>Yes</td>\n",
       "    </tr>\n",
       "    <tr>\n",
       "      <th>4</th>\n",
       "      <td>01/12/2017</td>\n",
       "      <td>78</td>\n",
       "      <td>4</td>\n",
       "      <td>-6.0</td>\n",
       "      <td>36</td>\n",
       "      <td>2.3</td>\n",
       "      <td>2000</td>\n",
       "      <td>-18.6</td>\n",
       "      <td>0.0</td>\n",
       "      <td>0.0</td>\n",
       "      <td>0.0</td>\n",
       "      <td>Winter</td>\n",
       "      <td>No Holiday</td>\n",
       "      <td>Yes</td>\n",
       "    </tr>\n",
       "  </tbody>\n",
       "</table>\n",
       "</div>"
      ],
      "text/plain": [
       "         Date  Rented Bike Count  Hour  Temperature(�C)  Humidity(%)  \\\n",
       "0  01/12/2017                254     0             -5.2           37   \n",
       "1  01/12/2017                204     1             -5.5           38   \n",
       "2  01/12/2017                173     2             -6.0           39   \n",
       "3  01/12/2017                107     3             -6.2           40   \n",
       "4  01/12/2017                 78     4             -6.0           36   \n",
       "\n",
       "   Wind speed (m/s)  Visibility (10m)  Dew point temperature(�C)  \\\n",
       "0               2.2              2000                      -17.6   \n",
       "1               0.8              2000                      -17.6   \n",
       "2               1.0              2000                      -17.7   \n",
       "3               0.9              2000                      -17.6   \n",
       "4               2.3              2000                      -18.6   \n",
       "\n",
       "   Solar Radiation (MJ/m2)  Rainfall(mm)  Snowfall (cm) Seasons     Holiday  \\\n",
       "0                      0.0           0.0            0.0  Winter  No Holiday   \n",
       "1                      0.0           0.0            0.0  Winter  No Holiday   \n",
       "2                      0.0           0.0            0.0  Winter  No Holiday   \n",
       "3                      0.0           0.0            0.0  Winter  No Holiday   \n",
       "4                      0.0           0.0            0.0  Winter  No Holiday   \n",
       "\n",
       "  Functioning Day  \n",
       "0             Yes  \n",
       "1             Yes  \n",
       "2             Yes  \n",
       "3             Yes  \n",
       "4             Yes  "
      ]
     },
     "execution_count": 31,
     "metadata": {},
     "output_type": "execute_result"
    }
   ],
   "source": [
    "df = pd.read_csv('SeoulBikeData.csv')\n",
    "df.head()"
   ]
  },
  {
   "cell_type": "code",
   "execution_count": 32,
   "id": "educated-advertising",
   "metadata": {},
   "outputs": [
    {
     "data": {
      "text/plain": [
       "(8760, 14)"
      ]
     },
     "execution_count": 32,
     "metadata": {},
     "output_type": "execute_result"
    }
   ],
   "source": [
    "df.shape"
   ]
  },
  {
   "cell_type": "code",
   "execution_count": 33,
   "id": "egyptian-school",
   "metadata": {},
   "outputs": [
    {
     "data": {
      "text/plain": [
       "Date                          object\n",
       "Rented Bike Count              int64\n",
       "Hour                           int64\n",
       "Temperature(�C)              float64\n",
       "Humidity(%)                    int64\n",
       "Wind speed (m/s)             float64\n",
       "Visibility (10m)               int64\n",
       "Dew point temperature(�C)    float64\n",
       "Solar Radiation (MJ/m2)      float64\n",
       "Rainfall(mm)                 float64\n",
       "Snowfall (cm)                float64\n",
       "Seasons                       object\n",
       "Holiday                       object\n",
       "Functioning Day               object\n",
       "dtype: object"
      ]
     },
     "execution_count": 33,
     "metadata": {},
     "output_type": "execute_result"
    }
   ],
   "source": [
    "df.dtypes"
   ]
  },
  {
   "cell_type": "code",
   "execution_count": 73,
   "id": "undefined-gazette",
   "metadata": {},
   "outputs": [
    {
     "data": {
      "text/html": [
       "<div>\n",
       "<style scoped>\n",
       "    .dataframe tbody tr th:only-of-type {\n",
       "        vertical-align: middle;\n",
       "    }\n",
       "\n",
       "    .dataframe tbody tr th {\n",
       "        vertical-align: top;\n",
       "    }\n",
       "\n",
       "    .dataframe thead th {\n",
       "        text-align: right;\n",
       "    }\n",
       "</style>\n",
       "<table border=\"1\" class=\"dataframe\">\n",
       "  <thead>\n",
       "    <tr style=\"text-align: right;\">\n",
       "      <th></th>\n",
       "      <th>Date</th>\n",
       "      <th>Rented Bike Count</th>\n",
       "      <th>Hour</th>\n",
       "      <th>Temperature (°C)</th>\n",
       "      <th>Humidity(%)</th>\n",
       "      <th>Wind speed (m/s)</th>\n",
       "      <th>Visibility (10m)</th>\n",
       "      <th>Dew point temperature (°C)</th>\n",
       "      <th>Solar Radiation (MJ/m2)</th>\n",
       "      <th>Rainfall(mm)</th>\n",
       "      <th>Snowfall (cm)</th>\n",
       "      <th>Seasons</th>\n",
       "      <th>Holiday</th>\n",
       "      <th>Functioning Day</th>\n",
       "      <th>Weekday</th>\n",
       "    </tr>\n",
       "  </thead>\n",
       "  <tbody>\n",
       "    <tr>\n",
       "      <th>0</th>\n",
       "      <td>2017-12-01</td>\n",
       "      <td>254</td>\n",
       "      <td>0</td>\n",
       "      <td>-5.2</td>\n",
       "      <td>37</td>\n",
       "      <td>2.2</td>\n",
       "      <td>2000</td>\n",
       "      <td>-17.6</td>\n",
       "      <td>0.0</td>\n",
       "      <td>0.0</td>\n",
       "      <td>0.0</td>\n",
       "      <td>Winter</td>\n",
       "      <td>No Holiday</td>\n",
       "      <td>Yes</td>\n",
       "      <td>Friday</td>\n",
       "    </tr>\n",
       "    <tr>\n",
       "      <th>1</th>\n",
       "      <td>2017-12-01</td>\n",
       "      <td>204</td>\n",
       "      <td>1</td>\n",
       "      <td>-5.5</td>\n",
       "      <td>38</td>\n",
       "      <td>0.8</td>\n",
       "      <td>2000</td>\n",
       "      <td>-17.6</td>\n",
       "      <td>0.0</td>\n",
       "      <td>0.0</td>\n",
       "      <td>0.0</td>\n",
       "      <td>Winter</td>\n",
       "      <td>No Holiday</td>\n",
       "      <td>Yes</td>\n",
       "      <td>Friday</td>\n",
       "    </tr>\n",
       "  </tbody>\n",
       "</table>\n",
       "</div>"
      ],
      "text/plain": [
       "        Date  Rented Bike Count  Hour  Temperature (°C)  Humidity(%)  \\\n",
       "0 2017-12-01                254     0              -5.2           37   \n",
       "1 2017-12-01                204     1              -5.5           38   \n",
       "\n",
       "   Wind speed (m/s)  Visibility (10m)  Dew point temperature (°C)  \\\n",
       "0               2.2              2000                       -17.6   \n",
       "1               0.8              2000                       -17.6   \n",
       "\n",
       "   Solar Radiation (MJ/m2)  Rainfall(mm)  Snowfall (cm) Seasons     Holiday  \\\n",
       "0                      0.0           0.0            0.0  Winter  No Holiday   \n",
       "1                      0.0           0.0            0.0  Winter  No Holiday   \n",
       "\n",
       "  Functioning Day Weekday  \n",
       "0             Yes  Friday  \n",
       "1             Yes  Friday  "
      ]
     },
     "execution_count": 73,
     "metadata": {},
     "output_type": "execute_result"
    }
   ],
   "source": [
    "df.rename(columns = {'Temperature(�C)':'Temperature (°C)', 'Dew point temperature(�C)':'Dew point temperature (°C)'}, inplace = True)\n",
    "df.head(2)"
   ]
  },
  {
   "cell_type": "markdown",
   "id": "respiratory-error",
   "metadata": {},
   "source": [
    "For this data exploration, data are displayed as boxplot. \n",
    "A boxplot is a standardized way of displaying the dataset based on a five-number summary: the minimum, the maximum, the sample median, and the first and third quartiles.\n",
    "Each group has 25% of data. The sample median represents the midpoint of the data, and it is represented by the line, which divides the box into two parts. The box itself denotes the 50% of middle values for each considered data field. This range of values from the first to third quartile limit is known as inner quartile range. Seventy-five percent of values fall below the third quartile and 25% falls above it. And the values above the upper whisker are considered as outliers.\n",
    "\n",
    "Several boxplots of rental bike count across four seasons, hours of the day, working day, day of the week and week status will be displayed."
   ]
  },
  {
   "cell_type": "markdown",
   "id": "variable-produce",
   "metadata": {},
   "source": [
    "## Rented bike count"
   ]
  },
  {
   "cell_type": "code",
   "execution_count": 53,
   "id": "naval-electricity",
   "metadata": {},
   "outputs": [
    {
     "data": {
      "text/plain": [
       "Text(0.5, 1.0, 'Rented bike count')"
      ]
     },
     "execution_count": 53,
     "metadata": {},
     "output_type": "execute_result"
    },
    {
     "data": {
      "image/png": "[encoded data removed]",
      "text/plain": [
       "<Figure size 360x360 with 1 Axes>"
      ]
     },
     "metadata": {
      "needs_background": "light"
     },
     "output_type": "display_data"
    }
   ],
   "source": [
    "import matplotlib.pyplot as plt\n",
    "\n",
    "fig, ax1 = plt.subplots(figsize = (5,5))\n",
    "ax1.boxplot(df[['Rented Bike Count']], patch_artist = True, widths = 0.8)\n",
    "ax1.set_ylabel('Rented bike count')\n",
    "ax1.set_title('Rented bike count')\n",
    "plt.show()"
   ]
  },
  {
   "cell_type": "markdown",
   "id": "molecular-herald",
   "metadata": {},
   "source": [
    "The first boxplot represents rental bike count. The median of data is 500 and the data contains minimal outliers."
   ]
  },
  {
   "cell_type": "markdown",
   "id": "tracked-packing",
   "metadata": {},
   "source": [
    "## Rented bike count per seasons"
   ]
  },
  {
   "cell_type": "code",
   "execution_count": null,
   "id": "supposed-shark",
   "metadata": {},
   "outputs": [],
   "source": [
    "df_seasons = df[['Seasons', 'Rented Bike Count']].set_index('Seasons')\n",
    "df_seasons.head()"
   ]
  },
  {
   "cell_type": "code",
   "execution_count": 8,
   "id": "vertical-clearance",
   "metadata": {},
   "outputs": [],
   "source": [
    "seasons_names = ['Summer', 'Autumn','Spring', 'Winter']\n",
    "season_count = pd.DataFrame(columns = ['Summer', 'Autumn','Spring', 'Winter'], index = range(1500))"
   ]
  },
  {
   "cell_type": "code",
   "execution_count": 9,
   "id": "beautiful-mercy",
   "metadata": {},
   "outputs": [
    {
     "data": {
      "text/html": [
       "<div>\n",
       "<style scoped>\n",
       "    .dataframe tbody tr th:only-of-type {\n",
       "        vertical-align: middle;\n",
       "    }\n",
       "\n",
       "    .dataframe tbody tr th {\n",
       "        vertical-align: top;\n",
       "    }\n",
       "\n",
       "    .dataframe thead th {\n",
       "        text-align: right;\n",
       "    }\n",
       "</style>\n",
       "<table border=\"1\" class=\"dataframe\">\n",
       "  <thead>\n",
       "    <tr style=\"text-align: right;\">\n",
       "      <th></th>\n",
       "      <th>Summer</th>\n",
       "      <th>Autumn</th>\n",
       "      <th>Spring</th>\n",
       "      <th>Winter</th>\n",
       "    </tr>\n",
       "  </thead>\n",
       "  <tbody>\n",
       "    <tr>\n",
       "      <th>0</th>\n",
       "      <td>963</td>\n",
       "      <td>1075</td>\n",
       "      <td>71</td>\n",
       "      <td>254</td>\n",
       "    </tr>\n",
       "    <tr>\n",
       "      <th>1</th>\n",
       "      <td>776</td>\n",
       "      <td>975</td>\n",
       "      <td>147</td>\n",
       "      <td>204</td>\n",
       "    </tr>\n",
       "    <tr>\n",
       "      <th>2</th>\n",
       "      <td>554</td>\n",
       "      <td>785</td>\n",
       "      <td>180</td>\n",
       "      <td>173</td>\n",
       "    </tr>\n",
       "    <tr>\n",
       "      <th>3</th>\n",
       "      <td>366</td>\n",
       "      <td>514</td>\n",
       "      <td>92</td>\n",
       "      <td>107</td>\n",
       "    </tr>\n",
       "    <tr>\n",
       "      <th>4</th>\n",
       "      <td>265</td>\n",
       "      <td>338</td>\n",
       "      <td>28</td>\n",
       "      <td>78</td>\n",
       "    </tr>\n",
       "  </tbody>\n",
       "</table>\n",
       "</div>"
      ],
      "text/plain": [
       "   Summer  Autumn  Spring  Winter\n",
       "0     963    1075      71     254\n",
       "1     776     975     147     204\n",
       "2     554     785     180     173\n",
       "3     366     514      92     107\n",
       "4     265     338      28      78"
      ]
     },
     "execution_count": 9,
     "metadata": {},
     "output_type": "execute_result"
    }
   ],
   "source": [
    "for season in seasons_names:\n",
    "    season_count[season] = df_seasons.loc[[season]].reset_index(drop = True)\n",
    "season_count = season_count.dropna()\n",
    "season_count.head()"
   ]
  },
  {
   "cell_type": "code",
   "execution_count": 62,
   "id": "incorporated-delicious",
   "metadata": {},
   "outputs": [
    {
     "data": {
      "image/png": "[encoded data removed]",
      "text/plain": [
       "<Figure size 720x360 with 1 Axes>"
      ]
     },
     "metadata": {
      "needs_background": "light"
     },
     "output_type": "display_data"
    }
   ],
   "source": [
    "import matplotlib.cm as cm\n",
    "\n",
    "fig, ax2 = plt.subplots(figsize = (10,5))\n",
    "box = ax2.boxplot(season_count,  patch_artist = True, widths = (0.8, 0.8, 0.8, 0.8))\n",
    "ax2.set_xlabel('Seasons')\n",
    "ax2.set_ylabel('Rented bike count')\n",
    "ax2.set_title('Rented bike count across seasons')\n",
    "ax2.set_xticklabels(['Summer', 'Autumn','Spring', 'Winter'])\n",
    "\n",
    "cm = plt.cm.get_cmap('rainbow')\n",
    "colors = [cm(val/(season_count.shape[1])) for val in range((season_count.shape[1]))]\n",
    "\n",
    "for patch, color in zip(box['boxes'], colors):\n",
    "    patch.set_facecolor(color)\n",
    "    patch.set_alpha(0.6)\n",
    "    \n",
    "plt.show()"
   ]
  },
  {
   "cell_type": "markdown",
   "id": "challenging-comedy",
   "metadata": {},
   "source": [
    "The boxplot across different seasons shows that rental bike use is less important during winter, and higher in summer. Weather has a very predominant effect on rental bike use."
   ]
  },
  {
   "cell_type": "markdown",
   "id": "pacific-retention",
   "metadata": {},
   "source": [
    "## Rented bike count accross holidays"
   ]
  },
  {
   "cell_type": "code",
   "execution_count": 71,
   "id": "frozen-playlist",
   "metadata": {},
   "outputs": [],
   "source": [
    "df_holiday = df[['Holiday', 'Rented Bike Count']].set_index('Holiday')\n",
    "# df_holiday.head()"
   ]
  },
  {
   "cell_type": "code",
   "execution_count": 12,
   "id": "australian-resource",
   "metadata": {},
   "outputs": [],
   "source": [
    "Rental_Holiday = df_holiday.loc[['Holiday']]\n",
    "Rental_Noholiday = df_holiday.loc[['No Holiday']]\n",
    "holiday_count = ([Rental_Holiday['Rented Bike Count'], Rental_Noholiday['Rented Bike Count']])"
   ]
  },
  {
   "cell_type": "code",
   "execution_count": 61,
   "id": "later-iceland",
   "metadata": {},
   "outputs": [
    {
     "data": {
      "image/png": "[encoded data removed]",
      "text/plain": [
       "<Figure size 720x360 with 1 Axes>"
      ]
     },
     "metadata": {
      "needs_background": "light"
     },
     "output_type": "display_data"
    }
   ],
   "source": [
    "fig, ax3 = plt.subplots(figsize = (10,5))\n",
    "box = ax3.boxplot(holiday_count ,  patch_artist = True, widths = (0.8, 0.8))\n",
    "ax3.set_xlabel('Working day')\n",
    "ax3.set_ylabel('Rented bike count')\n",
    "ax3.set_title('Rented bike count across working day')\n",
    "ax3.set_xticklabels(['Holiday', 'No holiday'])\n",
    "\n",
    "cm = plt.cm.get_cmap('rainbow')\n",
    "colors = [cm(val/len(holiday_count)) for val in range((len(holiday_count)))]\n",
    "\n",
    "for patch, color in zip(box['boxes'], colors):\n",
    "    patch.set_facecolor(color)\n",
    "    patch.set_alpha(0.6)\n",
    "\n",
    "plt.show()"
   ]
  },
  {
   "cell_type": "markdown",
   "id": "applicable-volunteer",
   "metadata": {},
   "source": [
    "The rental bike use is higher during “No Holiday” period. It implies the working day’s influence on the rental bike usage. This might be explained by people using rental bike services to commute."
   ]
  },
  {
   "cell_type": "markdown",
   "id": "returning-ordinary",
   "metadata": {},
   "source": [
    "## Rented bike count accross days of the week"
   ]
  },
  {
   "cell_type": "code",
   "execution_count": 69,
   "id": "egyptian-scratch",
   "metadata": {},
   "outputs": [],
   "source": [
    "import datetime as dt\n",
    "df['Date'] = pd.to_datetime(df['Date'], format = '%d/%m/%Y')\n",
    "df['Weekday'] = df[['Date']].apply(lambda x: dt.datetime.strftime(x['Date'], '%A'), axis=1)"
   ]
  },
  {
   "cell_type": "code",
   "execution_count": 70,
   "id": "bored-rubber",
   "metadata": {},
   "outputs": [],
   "source": [
    "df_weekday = df[['Weekday', 'Rented Bike Count']].set_index('Weekday')\n",
    "# df_weekday.head()"
   ]
  },
  {
   "cell_type": "code",
   "execution_count": 16,
   "id": "settled-sending",
   "metadata": {},
   "outputs": [],
   "source": [
    "day_names = ['Monday', 'Tuesday', 'Wednesday', 'Thursday', 'Friday', 'Saturday', 'Sunday']\n",
    "weekday_count = pd.DataFrame(columns = ['Monday', 'Tuesday', 'Wednesday', 'Thursday', 'Friday', 'Saturday', 'Sunday'], index = range(1500))"
   ]
  },
  {
   "cell_type": "code",
   "execution_count": 17,
   "id": "rough-prompt",
   "metadata": {},
   "outputs": [],
   "source": [
    "for name in day_names:\n",
    "    weekday_count[name] = df_weekday.loc[[name]].reset_index(drop = True)\n",
    "weekday_count = weekday_count.dropna()"
   ]
  },
  {
   "cell_type": "code",
   "execution_count": 60,
   "id": "concerned-fiction",
   "metadata": {},
   "outputs": [
    {
     "data": {
      "image/png": "[encoded data removed]",
      "text/plain": [
       "<Figure size 720x360 with 1 Axes>"
      ]
     },
     "metadata": {
      "needs_background": "light"
     },
     "output_type": "display_data"
    }
   ],
   "source": [
    "fig, ax4 = plt.subplots(figsize = (10,5))\n",
    "box = ax4.boxplot(weekday_count,  patch_artist = True, widths = (0.8, 0.8, 0.8, 0.8, 0.8, 0.8, 0.8))\n",
    "ax4.set_xlabel('Weekday')\n",
    "ax4.set_ylabel('Rented bike count')\n",
    "ax4.set_title('Rented bike count across weekday')\n",
    "ax4.set_xticklabels(['Monday', 'Tuesday', 'Wednesday', 'Thursday', 'Friday', 'Saturday', 'Sunday'])\n",
    "\n",
    "cm = plt.cm.get_cmap('rainbow')\n",
    "colors = [cm(val/weekday_count.shape[1]) for val in range(weekday_count.shape[1])]\n",
    "\n",
    "for patch, color in zip(box['boxes'], colors):\n",
    "    patch.set_facecolor(color)\n",
    "    patch.set_alpha(0.6)\n",
    "\n",
    "plt.show()"
   ]
  },
  {
   "cell_type": "markdown",
   "id": "advisory-fifteen",
   "metadata": {},
   "source": [
    "The boxplot across day of the week represents the rental bike count is slightly higher during the weekdays."
   ]
  },
  {
   "cell_type": "markdown",
   "id": "decimal-brain",
   "metadata": {},
   "source": [
    "## Rented bike count per hour"
   ]
  },
  {
   "cell_type": "code",
   "execution_count": 72,
   "id": "several-nitrogen",
   "metadata": {},
   "outputs": [],
   "source": [
    "df_hours = df[['Date', 'Hour', 'Rented Bike Count']]\n",
    "df_hours = df_hours.sort_values('Hour')\n",
    "# df_hours.head()"
   ]
  },
  {
   "cell_type": "code",
   "execution_count": 67,
   "id": "powered-right",
   "metadata": {},
   "outputs": [],
   "source": [
    "df_hours = df_hours.pivot(index = 'Date', columns = 'Hour', values = 'Rented Bike Count')\n",
    "# df_hours.head()"
   ]
  },
  {
   "cell_type": "code",
   "execution_count": 63,
   "id": "graduate-ethernet",
   "metadata": {},
   "outputs": [],
   "source": [
    "hours_count = df_hours.reset_index(drop = True)\n",
    "# hours_count.head()"
   ]
  },
  {
   "cell_type": "code",
   "execution_count": 59,
   "id": "yellow-analyst",
   "metadata": {},
   "outputs": [
    {
     "data": {
      "image/png": "[encoded data removed]",
      "text/plain": [
       "<Figure size 720x360 with 1 Axes>"
      ]
     },
     "metadata": {
      "needs_background": "light"
     },
     "output_type": "display_data"
    }
   ],
   "source": [
    "fig, ax5 = plt.subplots(figsize = (10,5))\n",
    "box = ax5.boxplot(hours_count, patch_artist = True)\n",
    "ax5.set_xlabel('Hours')\n",
    "ax5.set_ylabel('Rented bike count')\n",
    "ax5.set_title('Box plot on count')\n",
    "\n",
    "cm = plt.cm.get_cmap('rainbow')\n",
    "colors = [cm(val/hours_count.shape[1]) for val in range(hours_count.shape[1])]\n",
    "\n",
    "for patch, color in zip(box['boxes'], colors):\n",
    "    patch.set_facecolor(color)\n",
    "    patch.set_alpha(0.6)\n",
    "\n",
    "plt.show()"
   ]
  },
  {
   "cell_type": "markdown",
   "id": "north-minnesota",
   "metadata": {},
   "source": [
    "The boxplot across hours of the day represents the relationship between rental bike count and time. Rental bike usage is high at peak hours which is consistent with the assumption that people rental bike services to commute. \n",
    "With the different boxplots displayed, it’s evident that rental bike had high time and weather component."
   ]
  },
  {
   "cell_type": "markdown",
   "id": "interim-quarter",
   "metadata": {},
   "source": [
    "The next notebook will be focused highlighting the features importance and work on prediction."
   ]
  },
  {
   "cell_type": "markdown",
   "id": "favorite-daughter",
   "metadata": {},
   "source": [
    "## Reference \n",
    "\n",
    "[1] Sathishkumar V E, Jangwoo Park, and Yongyun Cho. 'Using data mining techniques for bike sharing demand prediction in metropolitan city.' Computer Communications, Vol.153, pp.353-366, March, 2020\n",
    "\n",
    "[2] Sathishkumar V E and Yongyun Cho. 'A rule-based model for Seoul Bike sharing demand prediction using weather data' European Journal of Remote Sensing, pp. 1-18, Feb, 2020"
   ]
  },
  {
   "cell_type": "code",
   "execution_count": null,
   "id": "suitable-somerset",
   "metadata": {},
   "outputs": [],
   "source": []
  }
 ],
 "metadata": {
  "kernelspec": {
   "display_name": "Python 3",
   "language": "python",
   "name": "python3"
  },
  "language_info": {
   "codemirror_mode": {
    "name": "ipython",
    "version": 3
   },
   "file_extension": ".py",
   "mimetype": "text/x-python",
   "name": "python",
   "nbconvert_exporter": "python",
   "pygments_lexer": "ipython3",
   "version": "3.8.7"
  }
 },
 "nbformat": 4,
 "nbformat_minor": 5
}
